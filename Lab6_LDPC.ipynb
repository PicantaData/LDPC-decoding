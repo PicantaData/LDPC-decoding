{
  "cells": [
    {
      "cell_type": "code",
      "execution_count": 2,
      "metadata": {
        "id": "j_PpMFssZdRA"
      },
      "outputs": [],
      "source": [
        "import numpy as np\n",
        "import matplotlib.pyplot as plt\n",
        "# import concurrent.futures"
      ]
    },
    {
      "cell_type": "markdown",
      "metadata": {
        "id": "My8i9rOOZdRC"
      },
      "source": [
        "We take the H matrix as below.  "
      ]
    },
    {
      "cell_type": "code",
      "execution_count": 3,
      "metadata": {
        "id": "-4IM5o7hZn9X"
      },
      "outputs": [],
      "source": [
        "H = np.loadtxt(\"Hmatrix1.txt\",delimiter=',')"
      ]
    },
    {
      "cell_type": "markdown",
      "metadata": {
        "id": "XqM1AE0VZdRF"
      },
      "source": [
        "We define the function to make adjacency list."
      ]
    },
    {
      "cell_type": "code",
      "execution_count": 4,
      "metadata": {
        "id": "NgY0gorKZdRG"
      },
      "outputs": [],
      "source": [
        "def ADJList(H):\n",
        "    adjList = []\n",
        "    \n",
        "    for i in range(0,len(H)):\n",
        "        temp = []\n",
        "        for j in range(0,len(H[0])):\n",
        "            if H[i][j] == 1:\n",
        "                temp.append(j)\n",
        "        adjList.append(temp)\n",
        "\n",
        "    return adjList"
      ]
    },
    {
      "cell_type": "code",
      "execution_count": 5,
      "metadata": {
        "id": "XkJ1DEdCZdRG"
      },
      "outputs": [],
      "source": [
        "# Make the adjacency list for CN and VN\n",
        "adjListCN = ADJList(H)\n",
        "adjListVN = ADJList(np.transpose(H))\n",
        "\n",
        "# print(\"Adjajency list for Check Nodes: \", adjListCN)\n",
        "# print(\"Adjajency list for Variable Nodes: \", adjListVN)"
      ]
    },
    {
      "cell_type": "markdown",
      "metadata": {
        "id": "lQFiaILpZdRI"
      },
      "source": [
        "Now, iterate through this adjacency lists to correct the received codeword."
      ]
    },
    {
      "cell_type": "code",
      "execution_count": 6,
      "metadata": {
        "id": "Td9eP7NuZdRJ"
      },
      "outputs": [],
      "source": [
        "def LDPC_Decoder(received):\n",
        "    for _ in range(0, 20): # Total 25 iterations\n",
        "        for var_node in range(len(H[0])): # Run loop for each Variable Node\n",
        "            for j in adjListVN[var_node]: # Check for each Check Node connected to that Variable Node\n",
        "                temp = [] \n",
        "            \n",
        "                for var in adjListCN[j]: # For Variable Nodes connected to current Check Node\n",
        "                    # Append the value of Variable Nodes into temp list other than current Variable Node\n",
        "                    if var != var_node:\n",
        "                        temp.append(received[var])\n",
        "                # print(temp) \n",
        "                \n",
        "                for val in temp:\n",
        "                    flag = 0\n",
        "                    # If any of the temp value is -1, we can't update received bit\n",
        "                    if val == -1:\n",
        "                        flag = 1    \n",
        "                        break\n",
        "                \n",
        "                # If no bit is -1, update received bit (which has erased value -1) to sum % 2\n",
        "                if flag == 0 and received[var_node] == -1:\n",
        "                    received[var_node] = np.sum(temp) % 2\n",
        "        \n",
        "    return received\n",
        "    "
      ]
    },
    {
      "cell_type": "markdown",
      "metadata": {
        "id": "YyzYhAexZdRK"
      },
      "source": [
        "Check for any input received bits"
      ]
    },
    {
      "cell_type": "code",
      "execution_count": 7,
      "metadata": {
        "id": "hZuRBPrjaKXE"
      },
      "outputs": [],
      "source": [
        "# global p_psd\n",
        "# p_psd = dict() # Probab_psd dict\n",
        "def simulate_bec_monte_carlo_parallel(p, Nsim=300):\n",
        "    n = H.shape[1]\n",
        "    m = H.shape[0]\n",
        "\n",
        "    F = np.zeros(Nsim) #Flag\n",
        "    \n",
        "    for l in range(Nsim):\n",
        "        # Generate random codeword and transmit over BEC\n",
        "        x = np.random.randint(0, 1, size=n)\n",
        "        r = x.copy() # n elements\n",
        "        r[np.random.rand(n) < p] = -1 #-1 -> Erasure bits\n",
        "\n",
        "        # Decode received signal\n",
        "        x_dec = LDPC_Decoder(r)\n",
        "\n",
        "        # Check if decoding was successful\n",
        "        if np.all(x_dec == x):\n",
        "            F[l] = 1\n",
        "\n",
        "    # with concurrent.futures.ThreadPoolExecutor() as executor:\n",
        "    #     futures = [executor.submit(simulate, l) for l in range(Nsim)]\n",
        "    \n",
        "    psd = np.mean(F) #probability of successful decoding\n",
        "    # global p_psd\n",
        "    # p_psd[p] = psd\n",
        "    return psd\n",
        "\n",
        "#Usage:\n",
        "p_values = np.arange(0, 1.01, 0.08)\n",
        "# p_values = np.array([0.12,0.25,0.38,0.41,0.55,0.69,0.72,0.82,0.92,0.99,1.0])\n",
        "pe_values = [simulate_bec_monte_carlo_parallel(p) for p in p_values] #Prob of error\n",
        "\n",
        "# with concurrent.futures.ThreadPoolExecutor() as executor:\n",
        "#     futures = [executor.submit(simulate_bec_monte_carlo_parallel, p) for p in p_values]\n",
        "\n",
        "# for future in concurrent.futures.as_completed(futures):\n",
        "#     pe_values.append(future.result())\n"
      ]
    },
    {
      "cell_type": "code",
      "execution_count": 8,
      "metadata": {},
      "outputs": [
        {
          "data": {
            "image/png": "[encoded data removed]",
            "text/plain": [
              "<Figure size 640x480 with 1 Axes>"
            ]
          },
          "metadata": {},
          "output_type": "display_data"
        }
      ],
      "source": [
        "# for p in p_values:\n",
        "#     pe_values.append(p_psd[p])\n",
        "\n",
        "plt.plot(p_values, pe_values)\n",
        "plt.xlabel(\"Probability of erasure (p)\")\n",
        "plt.ylabel(\"Probability of successful decoding\")\n",
        "plt.title(\"Performance of LDPC decoding over a BEC\")\n",
        "plt.show()"
      ]
    },
    {
      "cell_type": "code",
      "execution_count": null,
      "metadata": {},
      "outputs": [],
      "source": []
    }
  ],
  "metadata": {
    "accelerator": "GPU",
    "colab": {
      "provenance": []
    },
    "gpuClass": "standard",
    "kernelspec": {
      "display_name": "Python 3",
      "language": "python",
      "name": "python3"
    },
    "language_info": {
      "codemirror_mode": {
        "name": "ipython",
        "version": 3
      },
      "file_extension": ".py",
      "mimetype": "text/x-python",
      "name": "python",
      "nbconvert_exporter": "python",
      "pygments_lexer": "ipython3",
      "version": "3.10.1"
    },
    "orig_nbformat": 4
  },
  "nbformat": 4,
  "nbformat_minor": 0
}
