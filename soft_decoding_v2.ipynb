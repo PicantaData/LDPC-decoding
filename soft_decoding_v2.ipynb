{
 "cells": [
  {
   "cell_type": "code",
   "execution_count": 2,
   "metadata": {},
   "outputs": [],
   "source": [
    "import numpy as np\n",
    "# import matplotlib.pyplot as plt"
   ]
  },
  {
   "cell_type": "code",
   "execution_count": 3,
   "metadata": {},
   "outputs": [
    {
     "name": "stdout",
     "output_type": "stream",
     "text": [
      "9 12\n"
     ]
    }
   ],
   "source": [
    "H = np.loadtxt(\"Hmatrix3.txt\",delimiter=',')\n",
    "Axes0 = H.shape[0] #Rows\n",
    "Axes1 = H.shape[1] #Cols\n",
    "print(Axes0,Axes1)\n",
    "# print(H)"
   ]
  },
  {
   "cell_type": "code",
   "execution_count": 4,
   "metadata": {},
   "outputs": [],
   "source": [
    "class Node:\n",
    "    def __init__(self, nodeID, connected_nodeList, bitValue,*args,**kwargs): \n",
    "        self.nodeID = nodeID #Helps to locate node in general list\n",
    "        self.adjNodes = connected_nodeList # List of connected nodes to a particular node\n",
    "        self.prevMsg = 2 #Set 2 as there is no initial messsage when started\n",
    "        self.currMsg = bitValue\n",
    "        self.pr1 = 0.5 if bitValue==-1 else bitValue #Stores probab=0.5 for erasure else same as bit.\n",
    "        self.FrmAdjNode = [None]*len(connected_nodeList) #Msg received from adj nodes\n",
    "\n",
    "# Pi = Pr(ci = 1|yi)\n",
    "# qij is a message sent by the variable node to the check node\n",
    "# Every message contains always the pair qij(0) and qij(1) which stands for the amount of belief that yi is a '0' or a '1'.\n",
    "# rji is a message sent by the check node fj to the variable node. Again there is a rji(0) and rji(1) that indicates the (current) amount of believe in that yi is a '0' or a '1'.\n",
    "    def varToChk(self,chkNodes):\n",
    "        #For 1st time sends whatever probability it has otherwise it makes a decision based on what it received from other check nodes (except the one it is sending to). \n",
    "        # They use this equation to update their response messages:\n",
    "        # qij(0) = Kij*(1-Pi)*PI[rj'i(0)] where PI is multiplication of all values except that of the checknode it is currently sending response to.\n",
    "        #K must be determined in such a way that qij(0) + qij(1) = 1.\n",
    "        # Then, it considers decisions of all checknodes to update is currMsg using hard deicision.\n",
    "        if self.prevMsg==2:\n",
    "            for nodeInd in self.adjNodes: # From variable nodes adjacent node list \n",
    "                idInd = chkNodes[nodeInd].adjNodes.index(self.nodeID) #Index of checknodes in chkNodes list\n",
    "                chkNodes[nodeInd].FrmAdjNode[idInd] = self.pr1\n",
    "            self.prevMsg = self.currMsg\n",
    "        else:\n",
    "            self.prevMsg = self.currMsg\n",
    "            for chkNodeInd in self.adjNodes:\n",
    "                pr1 = self.pr1\n",
    "                pr0 = 1 - pr1\n",
    "                for prob1 in self.FrmAdjNode: #Iterate through probab list sent by chk nodes\n",
    "                    if  self.FrmAdjNode.index(prob1) == self.adjNodes.index(chkNodeInd):\n",
    "                        continue\n",
    "                    else:\n",
    "                        pr1 = pr1*prob1\n",
    "                        pr0 = pr0*(1 - prob1)\n",
    "\n",
    "                k = 1/(pr0 + pr1)\n",
    "                \n",
    "                varNodeInd = chkNodes[chkNodeInd].adjNodes.index(self.nodeID)\n",
    "                chkNodes[chkNodeInd].FrmAdjNode[varNodeInd] = k*pr1\n",
    "\n",
    "            new_pr1 = pr1*self.FrmAdjNode[-1] #After last iteration pr1 will have multiplication of all probs except last element\n",
    "            new_pr0 = pr0*(1 - self.FrmAdjNode[-1])\n",
    "            \n",
    "            #Generating updated belief and hard decision\n",
    "            # new_pr1 = self.pr1\n",
    "            # new_pr0 = 1 - self.pr1\n",
    "            # for prob in self.FrmAdjNode:\n",
    "            #     new_pr1*=prob\n",
    "            #     new_pr0*=(1-prob)\n",
    "            \n",
    "            # if(new_pr0 == 0 and new_pr1==0):\n",
    "            #     new_pr0 = new_pr1 = 0.000001\n",
    "            # k_1 = 1/(new_pr0 + new_pr1)\n",
    "            # # # print(\"M2: \",new_pr0,new_pr1)\n",
    "            # new_pr0*=k_1\n",
    "            # new_pr1*=k_1\n",
    "            # print(self.nodeID, \" P(1): \",new_pr1,\" P(0): \",new_pr0)\n",
    "            # if self.currMsg==-1:\n",
    "            #     self.pr1 = new_pr1\n",
    "            if(new_pr1 > new_pr0):\n",
    "                self.currMsg = 1\n",
    "            elif (new_pr0 > new_pr1):\n",
    "                self.currMsg = 0\n",
    "            else:\n",
    "                self.currMsg = -1   \n",
    "                \n",
    "\n",
    "    def chkToVar(self,varNodes):\n",
    "        #check node considers message from variable nodes and calculates response for particular variable node using equation rji(0) = 0.5 + 0.5*PI[(1-2*q_i'j(1))] where PI is multiplication of all messsage values expect for the one variable node to which response needs to be sent. (This is parity check equation.) \n",
    "        for varNodeInd in self.adjNodes:\n",
    "            prob0 = 0.5\n",
    "            for pr1 in self.FrmAdjNode: #Iterate through probab list sent by var nodes\n",
    "                if self.FrmAdjNode.index(pr1) == self.adjNodes.index(varNodeInd):\n",
    "                    continue\n",
    "                else:\n",
    "                    prob0 = prob0*(1-2*pr1)\n",
    "\n",
    "            chknodeInd = varNodes[varNodeInd].adjNodes.index(self.nodeID)\n",
    "            varNodes[varNodeInd].FrmAdjNode[chknodeInd] = 0.5 - prob0 #1-(0.5+0.5*(1-2qi'j))\n"
   ]
  },
  {
   "cell_type": "code",
   "execution_count": 276,
   "metadata": {},
   "outputs": [],
   "source": [
    "def soft_decode_bec(varNodes,chkNodes):\n",
    "    t = 0 #Iteration index\n",
    "    while(t<50):\n",
    "\n",
    "        #variable node to check node logic\n",
    "        for varNode in varNodes:\n",
    "            varNode.varToChk(chkNodes)\n",
    "\n",
    "        #check node to variable node logic\n",
    "        for chkNode in chkNodes:\n",
    "            chkNode.chkToVar(varNodes)\n",
    "            \n",
    "                \n",
    "        #Loop break condition and error counting\n",
    "        currWord = []\n",
    "        for parity in varNodes:\n",
    "            currWord.append(parity.currMsg)\n",
    "\n",
    "        \n",
    "        if -1 not in currWord:\n",
    "            # print(currWord)\n",
    "            if sum(currWord)%2 == 0:\n",
    "                return currWord,t\n",
    "\n",
    "            \n",
    "        t += 1\n",
    "    return currWord,t"
   ]
  },
  {
   "cell_type": "code",
   "execution_count": 277,
   "metadata": {},
   "outputs": [],
   "source": [
    "def generate_msg(p):\n",
    "    # p = 0.3 #Probability of a bit to be an erasure\n",
    "    Msg = np.random.randint(0, 1, size=Axes1)\n",
    "    receivedMsg = Msg.copy()\n",
    "    receivedMsg[np.random.rand(Axes1) < p] = -1\n",
    "    # print(receivedMsg)\n",
    "    return list(Msg),list(receivedMsg)"
   ]
  },
  {
   "cell_type": "code",
   "execution_count": 278,
   "metadata": {},
   "outputs": [],
   "source": [
    "def initNodes(receivedMsg):\n",
    "    varNodes = []\n",
    "    chkNodes = []\n",
    "    for i in range(Axes0): \n",
    "        temp1 = list(H[i].nonzero()[0]) #Finding adj nodes\n",
    "        chkNodes.append(Node(nodeID=i, connected_nodeList=temp1, bitValue=2)) #Checknode initially has no message\n",
    "\n",
    "    for i in range(Axes1): \n",
    "        temp2 = list(H[:,i].nonzero()[0])\n",
    "        varNodes.append(Node(nodeID=i, connected_nodeList=temp2, bitValue=receivedMsg[i])) #Initializing variable nodes with received message\n",
    "    \n",
    "    return varNodes,chkNodes\n"
   ]
  },
  {
   "cell_type": "code",
   "execution_count": 279,
   "metadata": {},
   "outputs": [
    {
     "name": "stdout",
     "output_type": "stream",
     "text": [
      "[-1, -1, -1, -1, -1, -1, -1, -1, -1, -1, -1, -1] [0, 0, 0, 0, 0, 0, 0, -1, 0, 0, -1, -1] 50\n"
     ]
    }
   ],
   "source": [
    "L = [0, -1, 1, 0, 0, 0, 0, 1, 0, 1, 0, 0] #Error case\n",
    "\n",
    "originalMsg,errorMsg = generate_msg(1)\n",
    "varNodes,chkNodes = initNodes(receivedMsg=errorMsg)\n",
    "decoded_wrd,iter = soft_decode_bec(varNodes,chkNodes)\n",
    "print(errorMsg,decoded_wrd,iter)\n"
   ]
  },
  {
   "cell_type": "code",
   "execution_count": null,
   "metadata": {},
   "outputs": [],
   "source": []
  }
 ],
 "metadata": {
  "kernelspec": {
   "display_name": "venv",
   "language": "python",
   "name": "python3"
  },
  "language_info": {
   "codemirror_mode": {
    "name": "ipython",
    "version": 3
   },
   "file_extension": ".py",
   "mimetype": "text/x-python",
   "name": "python",
   "nbconvert_exporter": "python",
   "pygments_lexer": "ipython3",
   "version": "3.10.1"
  },
  "orig_nbformat": 4
 },
 "nbformat": 4,
 "nbformat_minor": 2
}
